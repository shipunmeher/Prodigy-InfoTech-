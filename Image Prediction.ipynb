{
 "cells": [
  {
   "cell_type": "code",
   "execution_count": 1,
   "id": "bb164f05-4048-4a6e-806b-e2ff0d85aa99",
   "metadata": {},
   "outputs": [],
   "source": [
    "import pandas as pd\n",
    "import numpy as np\n",
    "import matplotlib.pyplot as plt\n",
    "import seaborn as sns\n",
    "import warnings\n",
    "warnings.filterwarnings('ignore')\n",
    "import keras\n",
    "import os\n",
    "import cv2\n",
    "import tensorflow as tf\n",
    "from sklearn.svm import SVC\n",
    "from sklearn.metrics import classification_report, accuracy_score\n",
    "from keras.models import Sequential\n",
    "from keras.layers import Dense\n",
    "from tensorflow.keras.preprocessing.image import ImageDataGenerator\n",
    "from PIL import Image\n",
    "from keras.layers import Conv2D, MaxPooling2D, Flatten, Dense, Dropout "
   ]
  },
  {
   "cell_type": "code",
   "execution_count": 2,
   "id": "f85f7e35-bd54-4517-9167-6fc891bcb35a",
   "metadata": {},
   "outputs": [
    {
     "name": "stdout",
     "output_type": "stream",
     "text": [
      "✅ Train Accuracy: 100.00%\n",
      "✅ Test Accuracy: 52.03%\n",
      "\n",
      "📊 Classification Report:\n",
      "              precision    recall  f1-score   support\n",
      "\n",
      "         Cat       0.52      0.58      0.55       197\n",
      "         Dog       0.52      0.46      0.49       197\n",
      "\n",
      "    accuracy                           0.52       394\n",
      "   macro avg       0.52      0.52      0.52       394\n",
      "weighted avg       0.52      0.52      0.52       394\n",
      "\n"
     ]
    }
   ],
   "source": [
    "# Configuration\n",
    "IMG_SIZE = 64\n",
    "TRAIN_DIR = r\"C:\\Users\\Shipun Meher\\Desktop\\New folder\\training_set\"\n",
    "TEST_DIR = r\"C:\\Users\\Shipun Meher\\Desktop\\New folder\\test_set\"\n",
    "\n",
    "# Load and preprocess data\n",
    "def load_images_from_folder(folder):\n",
    "    data = []\n",
    "    labels = []\n",
    "    classes = ['cats', 'dogs']\n",
    "\n",
    "    for label, class_name in enumerate(classes):\n",
    "        class_folder = os.path.join(folder, class_name)\n",
    "        for filename in os.listdir(class_folder):\n",
    "            img_path = os.path.join(class_folder, filename)\n",
    "            try:\n",
    "                img = cv2.imread(img_path, cv2.IMREAD_GRAYSCALE)\n",
    "                img = cv2.resize(img, (IMG_SIZE, IMG_SIZE))\n",
    "                data.append(img.flatten())  # Flatten to 1D vector\n",
    "                labels.append(label)  # 0 = cat, 1 = dog\n",
    "            except Exception as e:\n",
    "                continue\n",
    "    return np.array(data), np.array(labels)\n",
    "\n",
    "# Load training and testing data\n",
    "X_train, y_train = load_images_from_folder(TRAIN_DIR)\n",
    "X_test, y_test = load_images_from_folder(TEST_DIR)\n",
    "\n",
    "# Train the SVM model\n",
    "svm = SVC(kernel='linear')\n",
    "svm.fit(X_train, y_train)\n",
    "\n",
    "# Evaluate model\n",
    "train_acc = svm.score(X_train, y_train)\n",
    "test_acc = svm.score(X_test, y_test)\n",
    "\n",
    "print(f\"✅ Train Accuracy: {train_acc * 100:.2f}%\")\n",
    "print(f\"✅ Test Accuracy: {test_acc * 100:.2f}%\")\n",
    "\n",
    "y_pred = svm.predict(X_test)\n",
    "print(\"\\n📊 Classification Report:\")\n",
    "print(classification_report(y_test, y_pred, target_names=[\"Cat\", \"Dog\"]))\n",
    "\n",
    "# 🔍 Predict a single image\n",
    "def predict_image(img_path):\n",
    "    try:\n",
    "        img = Image.open(img_path).convert('L')  # grayscale\n",
    "        img = img.resize((IMG_SIZE, IMG_SIZE))\n",
    "        img = np.array(img).flatten().reshape(1, -1)\n",
    "        pred = svm.predict(img)[0]\n",
    "        label = \"Dog\" if pred == 1 else \"Cat\"\n",
    "        print(f\"🔎 Prediction for {img_path}: {label}\")  \n",
    "        return label\n",
    "    except Exception as e:\n",
    "        print(\"❌ Error predicting image:\", e)\n",
    "        return None"
   ]
  },
  {
   "cell_type": "code",
   "execution_count": 8,
   "id": "29a8898f-e8e8-42e1-bceb-ea1e868f470f",
   "metadata": {},
   "outputs": [
    {
     "name": "stdout",
     "output_type": "stream",
     "text": [
      "🔎 Prediction for C:\\Users\\Shipun Meher\\Desktop\\cat_dog.jpg: Cat\n"
     ]
    },
    {
     "data": {
      "text/plain": [
       "'Cat'"
      ]
     },
     "execution_count": 8,
     "metadata": {},
     "output_type": "execute_result"
    }
   ],
   "source": [
    "# Example prediction\n",
    "# predict_image(r\"C:\\Users\\Shipun Meher\\Desktop\\cat_dog.jpg\")\n",
    "predict_image(r\"C:\\Users\\Shipun Meher\\Desktop\\cat_dog.jpg\")"
   ]
  },
  {
   "cell_type": "code",
   "execution_count": null,
   "id": "b216a533-4107-4fb7-b4d2-ddeb76878e3e",
   "metadata": {},
   "outputs": [],
   "source": []
  },
  {
   "cell_type": "code",
   "execution_count": null,
   "id": "1d85861d-fbe9-4793-b678-9482ca158067",
   "metadata": {},
   "outputs": [],
   "source": []
  }
 ],
 "metadata": {
  "kernelspec": {
   "display_name": "Python 3 (ipykernel)",
   "language": "python",
   "name": "python3"
  },
  "language_info": {
   "codemirror_mode": {
    "name": "ipython",
    "version": 3
   },
   "file_extension": ".py",
   "mimetype": "text/x-python",
   "name": "python",
   "nbconvert_exporter": "python",
   "pygments_lexer": "ipython3",
   "version": "3.12.4"
  }
 },
 "nbformat": 4,
 "nbformat_minor": 5
}
